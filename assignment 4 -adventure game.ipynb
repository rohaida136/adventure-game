{
 "cells": [
  {
   "cell_type": "code",
   "execution_count": 22,
   "metadata": {},
   "outputs": [
    {
     "name": "stdout",
     "output_type": "stream",
     "text": [
      "Greetings ida! Welcome to your adventure! There is hidden treasure in both of these rooms, whoever finds it, WIN! \n",
      "Great! Let's play the game! \n",
      "Welcome to heaven! Choose to move south or west. Take 4 steps towards your chosen directions, you have 30seconds for this...\n",
      "Jackpot.!, open the freezer & enjoy your ice cream...\n"
     ]
    }
   ],
   "source": [
    "# Finding treasure in rooms Adventure Game\n",
    "\n",
    "#user or player to enter their name\n",
    "name = input('Enter your name! ')\n",
    "#displaying player's name & welcome them. using f function to format the print output.\n",
    "print(f'Greetings {name}! Welcome to your adventure! There is hidden treasure in both of these rooms, whoever finds it, WIN! ')\n",
    "\n",
    "#getting input to start playing or not\n",
    "start = input('Would you rather play the game or perish? ')\n",
    "#if user choose play, the game will automatically start\n",
    "if start == 'play':\n",
    "    print(\"Great! Let's play the game! \")\n",
    "    #creating function to each of the two rooms for user to choose. \n",
    "    setting = input('Want to go to the bedroom or the kitchen? ')  \n",
    "\n",
    "    #if user choose to go into bedroom, this function will be called\n",
    "    if setting == 'bedroom':\n",
    "        print(f'Welcome to the bedroom! Choose to move south or west. You can then take 4 steps towards your chosen directions, you have 30seconds for this...')\n",
    "        #input response from user to choose to walk south or west 4 steps in 4secs\n",
    "        response = input(\"Choose south or west\")\n",
    "    \n",
    "        #function if user choose to walk towards south\n",
    "        if response == 'south':\n",
    "            print('You found a box in front of you, open it...')\n",
    "        #or if user choose to walk towards west\n",
    "        elif response == 'west':\n",
    "            print('Wrong direction.! oppss sorry you just banged your head against the wall.! lol ')\n",
    "        #any other response will give this print\n",
    "        else:\n",
    "            print('wrong direction.! you are now dead...')\n",
    "\n",
    "    #or if user choose to go into kitchen, this function will be called \n",
    "    elif setting == 'kitchen':\n",
    "        print(\"Welcome to heaven! Choose to move south or west. Take 4 steps towards your chosen directions, you have 30seconds for this...\")\n",
    "        response = input(\"Choose south or west\")\n",
    "        \n",
    "        if response == 'south':\n",
    "            print('Jackpot.!, open the freezer & enjoy your ice cream...')\n",
    "        elif response == 'west':\n",
    "            print('Wrong direction.! But thanks, go ahead & cook something.! ')\n",
    "    else:\n",
    "            print('wrong direction.! you are now dead...')\n",
    "            \n",
    "#any other response apart from play at the beginning will give this print output\n",
    "else:\n",
    "    print(\"Lame, Okay you're dead now... \")          "
   ]
  }
 ],
 "metadata": {
  "kernelspec": {
   "display_name": "Python 3.10.8 64-bit (microsoft store)",
   "language": "python",
   "name": "python3"
  },
  "language_info": {
   "codemirror_mode": {
    "name": "ipython",
    "version": 3
   },
   "file_extension": ".py",
   "mimetype": "text/x-python",
   "name": "python",
   "nbconvert_exporter": "python",
   "pygments_lexer": "ipython3",
   "version": "3.10.8"
  },
  "orig_nbformat": 4,
  "vscode": {
   "interpreter": {
    "hash": "e0acaf148705ed9ed86cc5cad12259d7985e30670e5686e5f55604a9b3b84a55"
   }
  }
 },
 "nbformat": 4,
 "nbformat_minor": 2
}
